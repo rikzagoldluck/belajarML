{
    "cells": [
        {
            "metadata": {},
            "cell_type": "code",
            "source": "import sklearn\nfrom sklearn import datasets\n\niris = datasets.load_iris()",
            "execution_count": 8,
            "outputs": []
        },
        {
            "metadata": {},
            "cell_type": "code",
            "source": "from sklearn.model_selection import train_test_split\nX = iris.data\ny = iris.target\n\nX_train, X_test, y_train, y_test = train_test_split(X, y, test_size=0.2)\nprint(len(X_test))",
            "execution_count": 13,
            "outputs": [
                {
                    "output_type": "stream",
                    "text": "30\n",
                    "name": "stdout"
                }
            ]
        },
        {
            "metadata": {},
            "cell_type": "code",
            "source": "from sklearn import tree\nfrom sklearn.model_selection import cross_val_score\nclf = tree.DecisionTreeClassifier()\nscores = cross_val_score(clf, X, y, cv=5)\nscores",
            "execution_count": 15,
            "outputs": [
                {
                    "output_type": "execute_result",
                    "execution_count": 15,
                    "data": {
                        "text/plain": "array([0.96666667, 0.96666667, 0.9       , 0.96666667, 1.        ])"
                    },
                    "metadata": {}
                }
            ]
        },
        {
            "metadata": {},
            "cell_type": "code",
            "source": "",
            "execution_count": null,
            "outputs": []
        }
    ],
    "metadata": {
        "kernelspec": {
            "name": "python3",
            "display_name": "Python 3.7",
            "language": "python"
        },
        "language_info": {
            "name": "python",
            "version": "3.7.10",
            "mimetype": "text/x-python",
            "codemirror_mode": {
                "name": "ipython",
                "version": 3
            },
            "pygments_lexer": "ipython3",
            "nbconvert_exporter": "python",
            "file_extension": ".py"
        }
    },
    "nbformat": 4,
    "nbformat_minor": 1
}
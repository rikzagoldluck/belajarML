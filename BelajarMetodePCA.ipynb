{
    "cells": [
        {
            "metadata": {},
            "cell_type": "code",
            "source": "from sklearn import datasets\nfrom sklearn.model_selection import train_test_split\niris = datasets.load_iris()\n\natribut = iris.data\nlabel = iris.target\n\n# bagi dataset menjadi train set dan test set\nX_train, X_test, y_train, y_test = train_test_split(atribut, label, test_size=0.2)",
            "execution_count": 1,
            "outputs": []
        },
        {
            "metadata": {},
            "cell_type": "code",
            "source": "from sklearn import tree\n\ndecision_tree = tree.DecisionTreeClassifier()\nmodel_pertama = decision_tree.fit(X_train, y_train)\nmodel_pertama.score(X_test, y_test)",
            "execution_count": 8,
            "outputs": [
                {
                    "output_type": "execute_result",
                    "execution_count": 8,
                    "data": {
                        "text/plain": "1.0"
                    },
                    "metadata": {}
                }
            ]
        },
        {
            "metadata": {},
            "cell_type": "code",
            "source": "from sklearn.decomposition import PCA\n# membuat objek PCA dengan 4 Principal Component atau 4 atribut\n\npca = PCA(n_components=4)\npca_atribut = pca.fit_transform(X_train)\n\n# melihat varians dari setiap atribut\npca.explained_variance_ratio_",
            "execution_count": 9,
            "outputs": [
                {
                    "output_type": "execute_result",
                    "execution_count": 9,
                    "data": {
                        "text/plain": "array([0.92301784, 0.05585938, 0.01586695, 0.00525584])"
                    },
                    "metadata": {}
                }
            ]
        },
        {
            "metadata": {},
            "cell_type": "code",
            "source": "# PCA dengan 2 principal component\npca = PCA(n_components=2)\nX_train_pca = pca.fit_transform(X_train)\nX_test_pca = pca.fit_transform(X_test)",
            "execution_count": 11,
            "outputs": []
        },
        {
            "metadata": {},
            "cell_type": "code",
            "source": "model2 = decision_tree.fit(X_train_pca, y_train)\nmodel2.score(X_test)",
            "execution_count": null,
            "outputs": []
        }
    ],
    "metadata": {
        "kernelspec": {
            "name": "python3",
            "display_name": "Python 3.8",
            "language": "python"
        },
        "language_info": {
            "name": "python",
            "version": "3.8.10",
            "mimetype": "text/x-python",
            "codemirror_mode": {
                "name": "ipython",
                "version": 3
            },
            "pygments_lexer": "ipython3",
            "nbconvert_exporter": "python",
            "file_extension": ".py"
        }
    },
    "nbformat": 4,
    "nbformat_minor": 1
}